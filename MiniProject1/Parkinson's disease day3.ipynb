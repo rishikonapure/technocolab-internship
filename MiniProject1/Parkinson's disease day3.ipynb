{
 "cells": [
  {
   "cell_type": "markdown",
   "metadata": {},
   "source": [
    "## Importing required libraries"
   ]
  },
  {
   "cell_type": "code",
   "execution_count": 1,
   "metadata": {},
   "outputs": [],
   "source": [
    "import numpy as np\n",
    "import pandas as pd\n",
    "import matplotlib.pyplot as plt"
   ]
  },
  {
   "cell_type": "markdown",
   "metadata": {},
   "source": [
    "## Import dataset"
   ]
  },
  {
   "cell_type": "code",
   "execution_count": 2,
   "metadata": {},
   "outputs": [],
   "source": [
    "dataset = pd.read_csv(\"transformed_data.csv\")"
   ]
  },
  {
   "cell_type": "code",
   "execution_count": 3,
   "metadata": {},
   "outputs": [
    {
     "data": {
      "text/html": [
       "<div>\n",
       "<style scoped>\n",
       "    .dataframe tbody tr th:only-of-type {\n",
       "        vertical-align: middle;\n",
       "    }\n",
       "\n",
       "    .dataframe tbody tr th {\n",
       "        vertical-align: top;\n",
       "    }\n",
       "\n",
       "    .dataframe thead th {\n",
       "        text-align: right;\n",
       "    }\n",
       "</style>\n",
       "<table border=\"1\" class=\"dataframe\">\n",
       "  <thead>\n",
       "    <tr style=\"text-align: right;\">\n",
       "      <th></th>\n",
       "      <th>Unnamed: 0</th>\n",
       "      <th>name</th>\n",
       "      <th>MDVP:Jitter(%)</th>\n",
       "      <th>MDVP:Jitter(Abs)</th>\n",
       "      <th>MDVP:RAP</th>\n",
       "      <th>MDVP:PPQ</th>\n",
       "      <th>Jitter:DDP</th>\n",
       "      <th>MDVP:Shimmer</th>\n",
       "      <th>MDVP:Shimmer(dB)</th>\n",
       "      <th>Shimmer:APQ3</th>\n",
       "      <th>Shimmer:APQ5</th>\n",
       "      <th>MDVP:APQ</th>\n",
       "      <th>Shimmer:DDA</th>\n",
       "      <th>status</th>\n",
       "      <th>RPDE</th>\n",
       "      <th>spread1</th>\n",
       "      <th>spread2</th>\n",
       "      <th>D2</th>\n",
       "      <th>PPE</th>\n",
       "    </tr>\n",
       "  </thead>\n",
       "  <tbody>\n",
       "    <tr>\n",
       "      <th>0</th>\n",
       "      <td>0</td>\n",
       "      <td>phon_R01_S01_1</td>\n",
       "      <td>-4.848516</td>\n",
       "      <td>-9.567015</td>\n",
       "      <td>-5.599422</td>\n",
       "      <td>-5.195761</td>\n",
       "      <td>-4.501711</td>\n",
       "      <td>-3.129492</td>\n",
       "      <td>-0.853316</td>\n",
       "      <td>-3.824928</td>\n",
       "      <td>-3.464137</td>\n",
       "      <td>-3.516272</td>\n",
       "      <td>-2.726469</td>\n",
       "      <td>1</td>\n",
       "      <td>0.414783</td>\n",
       "      <td>-4.813031</td>\n",
       "      <td>0.266482</td>\n",
       "      <td>2.301442</td>\n",
       "      <td>0.284654</td>\n",
       "    </tr>\n",
       "    <tr>\n",
       "      <th>1</th>\n",
       "      <td>1</td>\n",
       "      <td>phon_R01_S01_2</td>\n",
       "      <td>-4.637693</td>\n",
       "      <td>-9.433484</td>\n",
       "      <td>-5.370888</td>\n",
       "      <td>-4.967576</td>\n",
       "      <td>-4.272993</td>\n",
       "      <td>-2.791323</td>\n",
       "      <td>-0.468405</td>\n",
       "      <td>-3.462860</td>\n",
       "      <td>-3.097101</td>\n",
       "      <td>-3.130865</td>\n",
       "      <td>-2.364141</td>\n",
       "      <td>1</td>\n",
       "      <td>0.458359</td>\n",
       "      <td>-4.075192</td>\n",
       "      <td>0.335590</td>\n",
       "      <td>2.486855</td>\n",
       "      <td>0.368674</td>\n",
       "    </tr>\n",
       "    <tr>\n",
       "      <th>2</th>\n",
       "      <td>2</td>\n",
       "      <td>phon_R01_S01_3</td>\n",
       "      <td>-4.556380</td>\n",
       "      <td>-9.315701</td>\n",
       "      <td>-5.213976</td>\n",
       "      <td>-4.852350</td>\n",
       "      <td>-4.114751</td>\n",
       "      <td>-2.950185</td>\n",
       "      <td>-0.729811</td>\n",
       "      <td>-3.591027</td>\n",
       "      <td>-3.255021</td>\n",
       "      <td>-3.327018</td>\n",
       "      <td>-2.492536</td>\n",
       "      <td>1</td>\n",
       "      <td>0.429895</td>\n",
       "      <td>-4.443179</td>\n",
       "      <td>0.311173</td>\n",
       "      <td>2.342259</td>\n",
       "      <td>0.332634</td>\n",
       "    </tr>\n",
       "    <tr>\n",
       "      <th>3</th>\n",
       "      <td>3</td>\n",
       "      <td>phon_R01_S01_4</td>\n",
       "      <td>-4.608175</td>\n",
       "      <td>-9.315701</td>\n",
       "      <td>-5.294325</td>\n",
       "      <td>-4.964706</td>\n",
       "      <td>-4.196377</td>\n",
       "      <td>-2.901878</td>\n",
       "      <td>-0.659712</td>\n",
       "      <td>-3.532218</td>\n",
       "      <td>-3.217627</td>\n",
       "      <td>-3.277565</td>\n",
       "      <td>-2.433719</td>\n",
       "      <td>1</td>\n",
       "      <td>0.434969</td>\n",
       "      <td>-4.117501</td>\n",
       "      <td>0.334147</td>\n",
       "      <td>2.405554</td>\n",
       "      <td>0.368975</td>\n",
       "    </tr>\n",
       "    <tr>\n",
       "      <th>4</th>\n",
       "      <td>4</td>\n",
       "      <td>phon_R01_S01_5</td>\n",
       "      <td>-4.355190</td>\n",
       "      <td>-9.115030</td>\n",
       "      <td>-5.028290</td>\n",
       "      <td>-4.701681</td>\n",
       "      <td>-3.929169</td>\n",
       "      <td>-2.744974</td>\n",
       "      <td>-0.537854</td>\n",
       "      <td>-3.355268</td>\n",
       "      <td>-3.031359</td>\n",
       "      <td>-3.108901</td>\n",
       "      <td>-2.256656</td>\n",
       "      <td>1</td>\n",
       "      <td>0.417356</td>\n",
       "      <td>-3.747787</td>\n",
       "      <td>0.234513</td>\n",
       "      <td>2.332180</td>\n",
       "      <td>0.410335</td>\n",
       "    </tr>\n",
       "  </tbody>\n",
       "</table>\n",
       "</div>"
      ],
      "text/plain": [
       "   Unnamed: 0            name  MDVP:Jitter(%)  MDVP:Jitter(Abs)  MDVP:RAP  \\\n",
       "0           0  phon_R01_S01_1       -4.848516         -9.567015 -5.599422   \n",
       "1           1  phon_R01_S01_2       -4.637693         -9.433484 -5.370888   \n",
       "2           2  phon_R01_S01_3       -4.556380         -9.315701 -5.213976   \n",
       "3           3  phon_R01_S01_4       -4.608175         -9.315701 -5.294325   \n",
       "4           4  phon_R01_S01_5       -4.355190         -9.115030 -5.028290   \n",
       "\n",
       "   MDVP:PPQ  Jitter:DDP  MDVP:Shimmer  MDVP:Shimmer(dB)  Shimmer:APQ3  \\\n",
       "0 -5.195761   -4.501711     -3.129492         -0.853316     -3.824928   \n",
       "1 -4.967576   -4.272993     -2.791323         -0.468405     -3.462860   \n",
       "2 -4.852350   -4.114751     -2.950185         -0.729811     -3.591027   \n",
       "3 -4.964706   -4.196377     -2.901878         -0.659712     -3.532218   \n",
       "4 -4.701681   -3.929169     -2.744974         -0.537854     -3.355268   \n",
       "\n",
       "   Shimmer:APQ5  MDVP:APQ  Shimmer:DDA  status      RPDE   spread1   spread2  \\\n",
       "0     -3.464137 -3.516272    -2.726469       1  0.414783 -4.813031  0.266482   \n",
       "1     -3.097101 -3.130865    -2.364141       1  0.458359 -4.075192  0.335590   \n",
       "2     -3.255021 -3.327018    -2.492536       1  0.429895 -4.443179  0.311173   \n",
       "3     -3.217627 -3.277565    -2.433719       1  0.434969 -4.117501  0.334147   \n",
       "4     -3.031359 -3.108901    -2.256656       1  0.417356 -3.747787  0.234513   \n",
       "\n",
       "         D2       PPE  \n",
       "0  2.301442  0.284654  \n",
       "1  2.486855  0.368674  \n",
       "2  2.342259  0.332634  \n",
       "3  2.405554  0.368975  \n",
       "4  2.332180  0.410335  "
      ]
     },
     "execution_count": 3,
     "metadata": {},
     "output_type": "execute_result"
    }
   ],
   "source": [
    "dataset.head()"
   ]
  },
  {
   "cell_type": "code",
   "execution_count": 4,
   "metadata": {},
   "outputs": [],
   "source": [
    "dataset = dataset.drop(columns=['Unnamed: 0', 'name'], axis = 1)"
   ]
  },
  {
   "cell_type": "code",
   "execution_count": 5,
   "metadata": {},
   "outputs": [
    {
     "data": {
      "text/plain": [
       "Index(['MDVP:Jitter(%)', 'MDVP:Jitter(Abs)', 'MDVP:RAP', 'MDVP:PPQ',\n",
       "       'Jitter:DDP', 'MDVP:Shimmer', 'MDVP:Shimmer(dB)', 'Shimmer:APQ3',\n",
       "       'Shimmer:APQ5', 'MDVP:APQ', 'Shimmer:DDA', 'status', 'RPDE', 'spread1',\n",
       "       'spread2', 'D2', 'PPE'],\n",
       "      dtype='object')"
      ]
     },
     "execution_count": 5,
     "metadata": {},
     "output_type": "execute_result"
    }
   ],
   "source": [
    "dataset.columns"
   ]
  },
  {
   "cell_type": "code",
   "execution_count": 77,
   "metadata": {},
   "outputs": [],
   "source": [
    "x = dataset.drop([\"status\"], axis = 1)\n",
    "y = dataset[\"status\"]\n",
    "col = x.columns"
   ]
  },
  {
   "cell_type": "code",
   "execution_count": 12,
   "metadata": {},
   "outputs": [
    {
     "data": {
      "text/plain": [
       "(195, 16)"
      ]
     },
     "execution_count": 12,
     "metadata": {},
     "output_type": "execute_result"
    }
   ],
   "source": [
    "x.shape"
   ]
  },
  {
   "cell_type": "code",
   "execution_count": 11,
   "metadata": {},
   "outputs": [
    {
     "data": {
      "text/plain": [
       "(195,)"
      ]
     },
     "execution_count": 11,
     "metadata": {},
     "output_type": "execute_result"
    }
   ],
   "source": [
    "y.shape"
   ]
  },
  {
   "cell_type": "code",
   "execution_count": 13,
   "metadata": {},
   "outputs": [
    {
     "data": {
      "text/html": [
       "<div>\n",
       "<style scoped>\n",
       "    .dataframe tbody tr th:only-of-type {\n",
       "        vertical-align: middle;\n",
       "    }\n",
       "\n",
       "    .dataframe tbody tr th {\n",
       "        vertical-align: top;\n",
       "    }\n",
       "\n",
       "    .dataframe thead th {\n",
       "        text-align: right;\n",
       "    }\n",
       "</style>\n",
       "<table border=\"1\" class=\"dataframe\">\n",
       "  <thead>\n",
       "    <tr style=\"text-align: right;\">\n",
       "      <th></th>\n",
       "      <th>MDVP:Jitter(%)</th>\n",
       "      <th>MDVP:Jitter(Abs)</th>\n",
       "      <th>MDVP:RAP</th>\n",
       "      <th>MDVP:PPQ</th>\n",
       "      <th>Jitter:DDP</th>\n",
       "      <th>MDVP:Shimmer</th>\n",
       "      <th>MDVP:Shimmer(dB)</th>\n",
       "      <th>Shimmer:APQ3</th>\n",
       "      <th>Shimmer:APQ5</th>\n",
       "      <th>MDVP:APQ</th>\n",
       "      <th>Shimmer:DDA</th>\n",
       "      <th>status</th>\n",
       "      <th>RPDE</th>\n",
       "      <th>spread1</th>\n",
       "      <th>spread2</th>\n",
       "      <th>D2</th>\n",
       "      <th>PPE</th>\n",
       "    </tr>\n",
       "  </thead>\n",
       "  <tbody>\n",
       "    <tr>\n",
       "      <th>MDVP:Jitter(%)</th>\n",
       "      <td>1.000000</td>\n",
       "      <td>0.917185</td>\n",
       "      <td>0.974633</td>\n",
       "      <td>0.974122</td>\n",
       "      <td>0.974683</td>\n",
       "      <td>0.755118</td>\n",
       "      <td>0.786299</td>\n",
       "      <td>0.732481</td>\n",
       "      <td>0.720223</td>\n",
       "      <td>0.753011</td>\n",
       "      <td>0.732505</td>\n",
       "      <td>0.386407</td>\n",
       "      <td>0.472701</td>\n",
       "      <td>0.789686</td>\n",
       "      <td>0.462593</td>\n",
       "      <td>0.456797</td>\n",
       "      <td>0.795246</td>\n",
       "    </tr>\n",
       "    <tr>\n",
       "      <th>MDVP:Jitter(Abs)</th>\n",
       "      <td>0.917185</td>\n",
       "      <td>1.000000</td>\n",
       "      <td>0.864503</td>\n",
       "      <td>0.897411</td>\n",
       "      <td>0.864598</td>\n",
       "      <td>0.674491</td>\n",
       "      <td>0.698159</td>\n",
       "      <td>0.645626</td>\n",
       "      <td>0.631930</td>\n",
       "      <td>0.689959</td>\n",
       "      <td>0.645650</td>\n",
       "      <td>0.472408</td>\n",
       "      <td>0.547647</td>\n",
       "      <td>0.813956</td>\n",
       "      <td>0.492663</td>\n",
       "      <td>0.307872</td>\n",
       "      <td>0.799934</td>\n",
       "    </tr>\n",
       "    <tr>\n",
       "      <th>MDVP:RAP</th>\n",
       "      <td>0.974633</td>\n",
       "      <td>0.864503</td>\n",
       "      <td>1.000000</td>\n",
       "      <td>0.967840</td>\n",
       "      <td>0.999998</td>\n",
       "      <td>0.757591</td>\n",
       "      <td>0.784384</td>\n",
       "      <td>0.742367</td>\n",
       "      <td>0.734266</td>\n",
       "      <td>0.737941</td>\n",
       "      <td>0.742384</td>\n",
       "      <td>0.373591</td>\n",
       "      <td>0.437253</td>\n",
       "      <td>0.737710</td>\n",
       "      <td>0.369152</td>\n",
       "      <td>0.452272</td>\n",
       "      <td>0.742261</td>\n",
       "    </tr>\n",
       "    <tr>\n",
       "      <th>MDVP:PPQ</th>\n",
       "      <td>0.974122</td>\n",
       "      <td>0.897411</td>\n",
       "      <td>0.967840</td>\n",
       "      <td>1.000000</td>\n",
       "      <td>0.967856</td>\n",
       "      <td>0.784733</td>\n",
       "      <td>0.812522</td>\n",
       "      <td>0.759513</td>\n",
       "      <td>0.776889</td>\n",
       "      <td>0.781953</td>\n",
       "      <td>0.759532</td>\n",
       "      <td>0.392505</td>\n",
       "      <td>0.459046</td>\n",
       "      <td>0.806669</td>\n",
       "      <td>0.451291</td>\n",
       "      <td>0.426558</td>\n",
       "      <td>0.833714</td>\n",
       "    </tr>\n",
       "    <tr>\n",
       "      <th>Jitter:DDP</th>\n",
       "      <td>0.974683</td>\n",
       "      <td>0.864598</td>\n",
       "      <td>0.999998</td>\n",
       "      <td>0.967856</td>\n",
       "      <td>1.000000</td>\n",
       "      <td>0.757526</td>\n",
       "      <td>0.784324</td>\n",
       "      <td>0.742282</td>\n",
       "      <td>0.734209</td>\n",
       "      <td>0.737920</td>\n",
       "      <td>0.742300</td>\n",
       "      <td>0.373758</td>\n",
       "      <td>0.437104</td>\n",
       "      <td>0.737870</td>\n",
       "      <td>0.369131</td>\n",
       "      <td>0.452238</td>\n",
       "      <td>0.742410</td>\n",
       "    </tr>\n",
       "    <tr>\n",
       "      <th>MDVP:Shimmer</th>\n",
       "      <td>0.755118</td>\n",
       "      <td>0.674491</td>\n",
       "      <td>0.757591</td>\n",
       "      <td>0.784733</td>\n",
       "      <td>0.757526</td>\n",
       "      <td>1.000000</td>\n",
       "      <td>0.992705</td>\n",
       "      <td>0.989313</td>\n",
       "      <td>0.987526</td>\n",
       "      <td>0.973161</td>\n",
       "      <td>0.989313</td>\n",
       "      <td>0.412005</td>\n",
       "      <td>0.519752</td>\n",
       "      <td>0.680086</td>\n",
       "      <td>0.449342</td>\n",
       "      <td>0.497946</td>\n",
       "      <td>0.700309</td>\n",
       "    </tr>\n",
       "    <tr>\n",
       "      <th>MDVP:Shimmer(dB)</th>\n",
       "      <td>0.786299</td>\n",
       "      <td>0.698159</td>\n",
       "      <td>0.784384</td>\n",
       "      <td>0.812522</td>\n",
       "      <td>0.784324</td>\n",
       "      <td>0.992705</td>\n",
       "      <td>1.000000</td>\n",
       "      <td>0.975820</td>\n",
       "      <td>0.978156</td>\n",
       "      <td>0.971694</td>\n",
       "      <td>0.975825</td>\n",
       "      <td>0.411607</td>\n",
       "      <td>0.498244</td>\n",
       "      <td>0.688042</td>\n",
       "      <td>0.459914</td>\n",
       "      <td>0.512414</td>\n",
       "      <td>0.709530</td>\n",
       "    </tr>\n",
       "    <tr>\n",
       "      <th>Shimmer:APQ3</th>\n",
       "      <td>0.732481</td>\n",
       "      <td>0.645626</td>\n",
       "      <td>0.742367</td>\n",
       "      <td>0.759513</td>\n",
       "      <td>0.742282</td>\n",
       "      <td>0.989313</td>\n",
       "      <td>0.975820</td>\n",
       "      <td>1.000000</td>\n",
       "      <td>0.974958</td>\n",
       "      <td>0.935986</td>\n",
       "      <td>1.000000</td>\n",
       "      <td>0.372701</td>\n",
       "      <td>0.501233</td>\n",
       "      <td>0.634809</td>\n",
       "      <td>0.400608</td>\n",
       "      <td>0.457032</td>\n",
       "      <td>0.653659</td>\n",
       "    </tr>\n",
       "    <tr>\n",
       "      <th>Shimmer:APQ5</th>\n",
       "      <td>0.720223</td>\n",
       "      <td>0.631930</td>\n",
       "      <td>0.734266</td>\n",
       "      <td>0.776889</td>\n",
       "      <td>0.734209</td>\n",
       "      <td>0.987526</td>\n",
       "      <td>0.978156</td>\n",
       "      <td>0.974958</td>\n",
       "      <td>1.000000</td>\n",
       "      <td>0.962427</td>\n",
       "      <td>0.974958</td>\n",
       "      <td>0.390575</td>\n",
       "      <td>0.482202</td>\n",
       "      <td>0.665698</td>\n",
       "      <td>0.427521</td>\n",
       "      <td>0.488250</td>\n",
       "      <td>0.701150</td>\n",
       "    </tr>\n",
       "    <tr>\n",
       "      <th>MDVP:APQ</th>\n",
       "      <td>0.753011</td>\n",
       "      <td>0.689959</td>\n",
       "      <td>0.737941</td>\n",
       "      <td>0.781953</td>\n",
       "      <td>0.737920</td>\n",
       "      <td>0.973161</td>\n",
       "      <td>0.971694</td>\n",
       "      <td>0.935986</td>\n",
       "      <td>0.962427</td>\n",
       "      <td>1.000000</td>\n",
       "      <td>0.935986</td>\n",
       "      <td>0.460427</td>\n",
       "      <td>0.555366</td>\n",
       "      <td>0.725231</td>\n",
       "      <td>0.512932</td>\n",
       "      <td>0.534594</td>\n",
       "      <td>0.747447</td>\n",
       "    </tr>\n",
       "    <tr>\n",
       "      <th>Shimmer:DDA</th>\n",
       "      <td>0.732505</td>\n",
       "      <td>0.645650</td>\n",
       "      <td>0.742384</td>\n",
       "      <td>0.759532</td>\n",
       "      <td>0.742300</td>\n",
       "      <td>0.989313</td>\n",
       "      <td>0.975825</td>\n",
       "      <td>1.000000</td>\n",
       "      <td>0.974958</td>\n",
       "      <td>0.935986</td>\n",
       "      <td>1.000000</td>\n",
       "      <td>0.372690</td>\n",
       "      <td>0.501223</td>\n",
       "      <td>0.634811</td>\n",
       "      <td>0.400576</td>\n",
       "      <td>0.457033</td>\n",
       "      <td>0.653668</td>\n",
       "    </tr>\n",
       "    <tr>\n",
       "      <th>status</th>\n",
       "      <td>0.386407</td>\n",
       "      <td>0.472408</td>\n",
       "      <td>0.373591</td>\n",
       "      <td>0.392505</td>\n",
       "      <td>0.373758</td>\n",
       "      <td>0.412005</td>\n",
       "      <td>0.411607</td>\n",
       "      <td>0.372701</td>\n",
       "      <td>0.390575</td>\n",
       "      <td>0.460427</td>\n",
       "      <td>0.372690</td>\n",
       "      <td>1.000000</td>\n",
       "      <td>0.308567</td>\n",
       "      <td>0.564838</td>\n",
       "      <td>0.454842</td>\n",
       "      <td>0.340232</td>\n",
       "      <td>0.531039</td>\n",
       "    </tr>\n",
       "    <tr>\n",
       "      <th>RPDE</th>\n",
       "      <td>0.472701</td>\n",
       "      <td>0.547647</td>\n",
       "      <td>0.437253</td>\n",
       "      <td>0.459046</td>\n",
       "      <td>0.437104</td>\n",
       "      <td>0.519752</td>\n",
       "      <td>0.498244</td>\n",
       "      <td>0.501233</td>\n",
       "      <td>0.482202</td>\n",
       "      <td>0.555366</td>\n",
       "      <td>0.501223</td>\n",
       "      <td>0.308567</td>\n",
       "      <td>1.000000</td>\n",
       "      <td>0.591117</td>\n",
       "      <td>0.479905</td>\n",
       "      <td>0.236931</td>\n",
       "      <td>0.545886</td>\n",
       "    </tr>\n",
       "    <tr>\n",
       "      <th>spread1</th>\n",
       "      <td>0.789686</td>\n",
       "      <td>0.813956</td>\n",
       "      <td>0.737710</td>\n",
       "      <td>0.806669</td>\n",
       "      <td>0.737870</td>\n",
       "      <td>0.680086</td>\n",
       "      <td>0.688042</td>\n",
       "      <td>0.634809</td>\n",
       "      <td>0.665698</td>\n",
       "      <td>0.725231</td>\n",
       "      <td>0.634811</td>\n",
       "      <td>0.564838</td>\n",
       "      <td>0.591117</td>\n",
       "      <td>1.000000</td>\n",
       "      <td>0.652358</td>\n",
       "      <td>0.495123</td>\n",
       "      <td>0.962435</td>\n",
       "    </tr>\n",
       "    <tr>\n",
       "      <th>spread2</th>\n",
       "      <td>0.462593</td>\n",
       "      <td>0.492663</td>\n",
       "      <td>0.369152</td>\n",
       "      <td>0.451291</td>\n",
       "      <td>0.369131</td>\n",
       "      <td>0.449342</td>\n",
       "      <td>0.459914</td>\n",
       "      <td>0.400608</td>\n",
       "      <td>0.427521</td>\n",
       "      <td>0.512932</td>\n",
       "      <td>0.400576</td>\n",
       "      <td>0.454842</td>\n",
       "      <td>0.479905</td>\n",
       "      <td>0.652358</td>\n",
       "      <td>1.000000</td>\n",
       "      <td>0.523532</td>\n",
       "      <td>0.644711</td>\n",
       "    </tr>\n",
       "    <tr>\n",
       "      <th>D2</th>\n",
       "      <td>0.456797</td>\n",
       "      <td>0.307872</td>\n",
       "      <td>0.452272</td>\n",
       "      <td>0.426558</td>\n",
       "      <td>0.452238</td>\n",
       "      <td>0.497946</td>\n",
       "      <td>0.512414</td>\n",
       "      <td>0.457032</td>\n",
       "      <td>0.488250</td>\n",
       "      <td>0.534594</td>\n",
       "      <td>0.457033</td>\n",
       "      <td>0.340232</td>\n",
       "      <td>0.236931</td>\n",
       "      <td>0.495123</td>\n",
       "      <td>0.523532</td>\n",
       "      <td>1.000000</td>\n",
       "      <td>0.480585</td>\n",
       "    </tr>\n",
       "    <tr>\n",
       "      <th>PPE</th>\n",
       "      <td>0.795246</td>\n",
       "      <td>0.799934</td>\n",
       "      <td>0.742261</td>\n",
       "      <td>0.833714</td>\n",
       "      <td>0.742410</td>\n",
       "      <td>0.700309</td>\n",
       "      <td>0.709530</td>\n",
       "      <td>0.653659</td>\n",
       "      <td>0.701150</td>\n",
       "      <td>0.747447</td>\n",
       "      <td>0.653668</td>\n",
       "      <td>0.531039</td>\n",
       "      <td>0.545886</td>\n",
       "      <td>0.962435</td>\n",
       "      <td>0.644711</td>\n",
       "      <td>0.480585</td>\n",
       "      <td>1.000000</td>\n",
       "    </tr>\n",
       "  </tbody>\n",
       "</table>\n",
       "</div>"
      ],
      "text/plain": [
       "                  MDVP:Jitter(%)  MDVP:Jitter(Abs)  MDVP:RAP  MDVP:PPQ  \\\n",
       "MDVP:Jitter(%)          1.000000          0.917185  0.974633  0.974122   \n",
       "MDVP:Jitter(Abs)        0.917185          1.000000  0.864503  0.897411   \n",
       "MDVP:RAP                0.974633          0.864503  1.000000  0.967840   \n",
       "MDVP:PPQ                0.974122          0.897411  0.967840  1.000000   \n",
       "Jitter:DDP              0.974683          0.864598  0.999998  0.967856   \n",
       "MDVP:Shimmer            0.755118          0.674491  0.757591  0.784733   \n",
       "MDVP:Shimmer(dB)        0.786299          0.698159  0.784384  0.812522   \n",
       "Shimmer:APQ3            0.732481          0.645626  0.742367  0.759513   \n",
       "Shimmer:APQ5            0.720223          0.631930  0.734266  0.776889   \n",
       "MDVP:APQ                0.753011          0.689959  0.737941  0.781953   \n",
       "Shimmer:DDA             0.732505          0.645650  0.742384  0.759532   \n",
       "status                  0.386407          0.472408  0.373591  0.392505   \n",
       "RPDE                    0.472701          0.547647  0.437253  0.459046   \n",
       "spread1                 0.789686          0.813956  0.737710  0.806669   \n",
       "spread2                 0.462593          0.492663  0.369152  0.451291   \n",
       "D2                      0.456797          0.307872  0.452272  0.426558   \n",
       "PPE                     0.795246          0.799934  0.742261  0.833714   \n",
       "\n",
       "                  Jitter:DDP  MDVP:Shimmer  MDVP:Shimmer(dB)  Shimmer:APQ3  \\\n",
       "MDVP:Jitter(%)      0.974683      0.755118          0.786299      0.732481   \n",
       "MDVP:Jitter(Abs)    0.864598      0.674491          0.698159      0.645626   \n",
       "MDVP:RAP            0.999998      0.757591          0.784384      0.742367   \n",
       "MDVP:PPQ            0.967856      0.784733          0.812522      0.759513   \n",
       "Jitter:DDP          1.000000      0.757526          0.784324      0.742282   \n",
       "MDVP:Shimmer        0.757526      1.000000          0.992705      0.989313   \n",
       "MDVP:Shimmer(dB)    0.784324      0.992705          1.000000      0.975820   \n",
       "Shimmer:APQ3        0.742282      0.989313          0.975820      1.000000   \n",
       "Shimmer:APQ5        0.734209      0.987526          0.978156      0.974958   \n",
       "MDVP:APQ            0.737920      0.973161          0.971694      0.935986   \n",
       "Shimmer:DDA         0.742300      0.989313          0.975825      1.000000   \n",
       "status              0.373758      0.412005          0.411607      0.372701   \n",
       "RPDE                0.437104      0.519752          0.498244      0.501233   \n",
       "spread1             0.737870      0.680086          0.688042      0.634809   \n",
       "spread2             0.369131      0.449342          0.459914      0.400608   \n",
       "D2                  0.452238      0.497946          0.512414      0.457032   \n",
       "PPE                 0.742410      0.700309          0.709530      0.653659   \n",
       "\n",
       "                  Shimmer:APQ5  MDVP:APQ  Shimmer:DDA    status      RPDE  \\\n",
       "MDVP:Jitter(%)        0.720223  0.753011     0.732505  0.386407  0.472701   \n",
       "MDVP:Jitter(Abs)      0.631930  0.689959     0.645650  0.472408  0.547647   \n",
       "MDVP:RAP              0.734266  0.737941     0.742384  0.373591  0.437253   \n",
       "MDVP:PPQ              0.776889  0.781953     0.759532  0.392505  0.459046   \n",
       "Jitter:DDP            0.734209  0.737920     0.742300  0.373758  0.437104   \n",
       "MDVP:Shimmer          0.987526  0.973161     0.989313  0.412005  0.519752   \n",
       "MDVP:Shimmer(dB)      0.978156  0.971694     0.975825  0.411607  0.498244   \n",
       "Shimmer:APQ3          0.974958  0.935986     1.000000  0.372701  0.501233   \n",
       "Shimmer:APQ5          1.000000  0.962427     0.974958  0.390575  0.482202   \n",
       "MDVP:APQ              0.962427  1.000000     0.935986  0.460427  0.555366   \n",
       "Shimmer:DDA           0.974958  0.935986     1.000000  0.372690  0.501223   \n",
       "status                0.390575  0.460427     0.372690  1.000000  0.308567   \n",
       "RPDE                  0.482202  0.555366     0.501223  0.308567  1.000000   \n",
       "spread1               0.665698  0.725231     0.634811  0.564838  0.591117   \n",
       "spread2               0.427521  0.512932     0.400576  0.454842  0.479905   \n",
       "D2                    0.488250  0.534594     0.457033  0.340232  0.236931   \n",
       "PPE                   0.701150  0.747447     0.653668  0.531039  0.545886   \n",
       "\n",
       "                   spread1   spread2        D2       PPE  \n",
       "MDVP:Jitter(%)    0.789686  0.462593  0.456797  0.795246  \n",
       "MDVP:Jitter(Abs)  0.813956  0.492663  0.307872  0.799934  \n",
       "MDVP:RAP          0.737710  0.369152  0.452272  0.742261  \n",
       "MDVP:PPQ          0.806669  0.451291  0.426558  0.833714  \n",
       "Jitter:DDP        0.737870  0.369131  0.452238  0.742410  \n",
       "MDVP:Shimmer      0.680086  0.449342  0.497946  0.700309  \n",
       "MDVP:Shimmer(dB)  0.688042  0.459914  0.512414  0.709530  \n",
       "Shimmer:APQ3      0.634809  0.400608  0.457032  0.653659  \n",
       "Shimmer:APQ5      0.665698  0.427521  0.488250  0.701150  \n",
       "MDVP:APQ          0.725231  0.512932  0.534594  0.747447  \n",
       "Shimmer:DDA       0.634811  0.400576  0.457033  0.653668  \n",
       "status            0.564838  0.454842  0.340232  0.531039  \n",
       "RPDE              0.591117  0.479905  0.236931  0.545886  \n",
       "spread1           1.000000  0.652358  0.495123  0.962435  \n",
       "spread2           0.652358  1.000000  0.523532  0.644711  \n",
       "D2                0.495123  0.523532  1.000000  0.480585  \n",
       "PPE               0.962435  0.644711  0.480585  1.000000  "
      ]
     },
     "execution_count": 13,
     "metadata": {},
     "output_type": "execute_result"
    }
   ],
   "source": [
    "dataset.corr()"
   ]
  },
  {
   "cell_type": "code",
   "execution_count": 72,
   "metadata": {
    "scrolled": true
   },
   "outputs": [
    {
     "data": {
      "text/html": [
       "<div>\n",
       "<style scoped>\n",
       "    .dataframe tbody tr th:only-of-type {\n",
       "        vertical-align: middle;\n",
       "    }\n",
       "\n",
       "    .dataframe tbody tr th {\n",
       "        vertical-align: top;\n",
       "    }\n",
       "\n",
       "    .dataframe thead th {\n",
       "        text-align: right;\n",
       "    }\n",
       "</style>\n",
       "<table border=\"1\" class=\"dataframe\">\n",
       "  <thead>\n",
       "    <tr style=\"text-align: right;\">\n",
       "      <th></th>\n",
       "      <th>MDVP:Jitter(%)</th>\n",
       "      <th>MDVP:Jitter(Abs)</th>\n",
       "      <th>MDVP:RAP</th>\n",
       "      <th>MDVP:PPQ</th>\n",
       "      <th>Jitter:DDP</th>\n",
       "      <th>MDVP:Shimmer</th>\n",
       "      <th>MDVP:Shimmer(dB)</th>\n",
       "      <th>Shimmer:APQ3</th>\n",
       "      <th>Shimmer:APQ5</th>\n",
       "      <th>MDVP:APQ</th>\n",
       "      <th>Shimmer:DDA</th>\n",
       "      <th>status</th>\n",
       "      <th>RPDE</th>\n",
       "      <th>spread1</th>\n",
       "      <th>spread2</th>\n",
       "      <th>D2</th>\n",
       "      <th>PPE</th>\n",
       "    </tr>\n",
       "  </thead>\n",
       "  <tbody>\n",
       "    <tr>\n",
       "      <th>0</th>\n",
       "      <td>-4.848516</td>\n",
       "      <td>-9.567015</td>\n",
       "      <td>-5.599422</td>\n",
       "      <td>-5.195761</td>\n",
       "      <td>-4.501711</td>\n",
       "      <td>-3.129492</td>\n",
       "      <td>-0.853316</td>\n",
       "      <td>-3.824928</td>\n",
       "      <td>-3.464137</td>\n",
       "      <td>-3.516272</td>\n",
       "      <td>-2.726469</td>\n",
       "      <td>1</td>\n",
       "      <td>0.414783</td>\n",
       "      <td>-4.813031</td>\n",
       "      <td>0.266482</td>\n",
       "      <td>2.301442</td>\n",
       "      <td>0.284654</td>\n",
       "    </tr>\n",
       "    <tr>\n",
       "      <th>1</th>\n",
       "      <td>-4.637693</td>\n",
       "      <td>-9.433484</td>\n",
       "      <td>-5.370888</td>\n",
       "      <td>-4.967576</td>\n",
       "      <td>-4.272993</td>\n",
       "      <td>-2.791323</td>\n",
       "      <td>-0.468405</td>\n",
       "      <td>-3.462860</td>\n",
       "      <td>-3.097101</td>\n",
       "      <td>-3.130865</td>\n",
       "      <td>-2.364141</td>\n",
       "      <td>1</td>\n",
       "      <td>0.458359</td>\n",
       "      <td>-4.075192</td>\n",
       "      <td>0.335590</td>\n",
       "      <td>2.486855</td>\n",
       "      <td>0.368674</td>\n",
       "    </tr>\n",
       "    <tr>\n",
       "      <th>2</th>\n",
       "      <td>-4.556380</td>\n",
       "      <td>-9.315701</td>\n",
       "      <td>-5.213976</td>\n",
       "      <td>-4.852350</td>\n",
       "      <td>-4.114751</td>\n",
       "      <td>-2.950185</td>\n",
       "      <td>-0.729811</td>\n",
       "      <td>-3.591027</td>\n",
       "      <td>-3.255021</td>\n",
       "      <td>-3.327018</td>\n",
       "      <td>-2.492536</td>\n",
       "      <td>1</td>\n",
       "      <td>0.429895</td>\n",
       "      <td>-4.443179</td>\n",
       "      <td>0.311173</td>\n",
       "      <td>2.342259</td>\n",
       "      <td>0.332634</td>\n",
       "    </tr>\n",
       "    <tr>\n",
       "      <th>3</th>\n",
       "      <td>-4.608175</td>\n",
       "      <td>-9.315701</td>\n",
       "      <td>-5.294325</td>\n",
       "      <td>-4.964706</td>\n",
       "      <td>-4.196377</td>\n",
       "      <td>-2.901878</td>\n",
       "      <td>-0.659712</td>\n",
       "      <td>-3.532218</td>\n",
       "      <td>-3.217627</td>\n",
       "      <td>-3.277565</td>\n",
       "      <td>-2.433719</td>\n",
       "      <td>1</td>\n",
       "      <td>0.434969</td>\n",
       "      <td>-4.117501</td>\n",
       "      <td>0.334147</td>\n",
       "      <td>2.405554</td>\n",
       "      <td>0.368975</td>\n",
       "    </tr>\n",
       "    <tr>\n",
       "      <th>4</th>\n",
       "      <td>-4.355190</td>\n",
       "      <td>-9.115030</td>\n",
       "      <td>-5.028290</td>\n",
       "      <td>-4.701681</td>\n",
       "      <td>-3.929169</td>\n",
       "      <td>-2.744974</td>\n",
       "      <td>-0.537854</td>\n",
       "      <td>-3.355268</td>\n",
       "      <td>-3.031359</td>\n",
       "      <td>-3.108901</td>\n",
       "      <td>-2.256656</td>\n",
       "      <td>1</td>\n",
       "      <td>0.417356</td>\n",
       "      <td>-3.747787</td>\n",
       "      <td>0.234513</td>\n",
       "      <td>2.332180</td>\n",
       "      <td>0.410335</td>\n",
       "    </tr>\n",
       "  </tbody>\n",
       "</table>\n",
       "</div>"
      ],
      "text/plain": [
       "   MDVP:Jitter(%)  MDVP:Jitter(Abs)  MDVP:RAP  MDVP:PPQ  Jitter:DDP  \\\n",
       "0       -4.848516         -9.567015 -5.599422 -5.195761   -4.501711   \n",
       "1       -4.637693         -9.433484 -5.370888 -4.967576   -4.272993   \n",
       "2       -4.556380         -9.315701 -5.213976 -4.852350   -4.114751   \n",
       "3       -4.608175         -9.315701 -5.294325 -4.964706   -4.196377   \n",
       "4       -4.355190         -9.115030 -5.028290 -4.701681   -3.929169   \n",
       "\n",
       "   MDVP:Shimmer  MDVP:Shimmer(dB)  Shimmer:APQ3  Shimmer:APQ5  MDVP:APQ  \\\n",
       "0     -3.129492         -0.853316     -3.824928     -3.464137 -3.516272   \n",
       "1     -2.791323         -0.468405     -3.462860     -3.097101 -3.130865   \n",
       "2     -2.950185         -0.729811     -3.591027     -3.255021 -3.327018   \n",
       "3     -2.901878         -0.659712     -3.532218     -3.217627 -3.277565   \n",
       "4     -2.744974         -0.537854     -3.355268     -3.031359 -3.108901   \n",
       "\n",
       "   Shimmer:DDA  status      RPDE   spread1   spread2        D2       PPE  \n",
       "0    -2.726469       1  0.414783 -4.813031  0.266482  2.301442  0.284654  \n",
       "1    -2.364141       1  0.458359 -4.075192  0.335590  2.486855  0.368674  \n",
       "2    -2.492536       1  0.429895 -4.443179  0.311173  2.342259  0.332634  \n",
       "3    -2.433719       1  0.434969 -4.117501  0.334147  2.405554  0.368975  \n",
       "4    -2.256656       1  0.417356 -3.747787  0.234513  2.332180  0.410335  "
      ]
     },
     "execution_count": 72,
     "metadata": {},
     "output_type": "execute_result"
    }
   ],
   "source": [
    "dataset.head()"
   ]
  },
  {
   "cell_type": "code",
   "execution_count": 81,
   "metadata": {},
   "outputs": [],
   "source": [
    "from sklearn.preprocessing import MinMaxScaler\n",
    "scaler = MinMaxScaler()\n",
    "x_scaled = scaler.fit_transform(x)"
   ]
  },
  {
   "cell_type": "code",
   "execution_count": 82,
   "metadata": {},
   "outputs": [
    {
     "data": {
      "text/html": [
       "<div>\n",
       "<style scoped>\n",
       "    .dataframe tbody tr th:only-of-type {\n",
       "        vertical-align: middle;\n",
       "    }\n",
       "\n",
       "    .dataframe tbody tr th {\n",
       "        vertical-align: top;\n",
       "    }\n",
       "\n",
       "    .dataframe thead th {\n",
       "        text-align: right;\n",
       "    }\n",
       "</style>\n",
       "<table border=\"1\" class=\"dataframe\">\n",
       "  <thead>\n",
       "    <tr style=\"text-align: right;\">\n",
       "      <th></th>\n",
       "      <th>MDVP:Jitter(%)</th>\n",
       "      <th>MDVP:Jitter(Abs)</th>\n",
       "      <th>MDVP:RAP</th>\n",
       "      <th>MDVP:PPQ</th>\n",
       "      <th>Jitter:DDP</th>\n",
       "      <th>MDVP:Shimmer</th>\n",
       "      <th>MDVP:Shimmer(dB)</th>\n",
       "      <th>Shimmer:APQ3</th>\n",
       "      <th>Shimmer:APQ5</th>\n",
       "      <th>MDVP:APQ</th>\n",
       "      <th>Shimmer:DDA</th>\n",
       "      <th>RPDE</th>\n",
       "      <th>spread1</th>\n",
       "      <th>spread2</th>\n",
       "      <th>D2</th>\n",
       "      <th>PPE</th>\n",
       "    </tr>\n",
       "  </thead>\n",
       "  <tbody>\n",
       "    <tr>\n",
       "      <th>0</th>\n",
       "      <td>0.516486</td>\n",
       "      <td>0.636993</td>\n",
       "      <td>0.490882</td>\n",
       "      <td>0.587129</td>\n",
       "      <td>0.490599</td>\n",
       "      <td>0.603244</td>\n",
       "      <td>0.590614</td>\n",
       "      <td>0.622453</td>\n",
       "      <td>0.646595</td>\n",
       "      <td>0.480463</td>\n",
       "      <td>0.622488</td>\n",
       "      <td>0.369155</td>\n",
       "      <td>0.569875</td>\n",
       "      <td>0.585765</td>\n",
       "      <td>0.390661</td>\n",
       "      <td>0.497310</td>\n",
       "    </tr>\n",
       "    <tr>\n",
       "      <th>1</th>\n",
       "      <td>0.587171</td>\n",
       "      <td>0.673934</td>\n",
       "      <td>0.557106</td>\n",
       "      <td>0.661751</td>\n",
       "      <td>0.556873</td>\n",
       "      <td>0.737209</td>\n",
       "      <td>0.731658</td>\n",
       "      <td>0.766212</td>\n",
       "      <td>0.785939</td>\n",
       "      <td>0.610978</td>\n",
       "      <td>0.766304</td>\n",
       "      <td>0.470830</td>\n",
       "      <td>0.703277</td>\n",
       "      <td>0.741337</td>\n",
       "      <td>0.473145</td>\n",
       "      <td>0.671326</td>\n",
       "    </tr>\n",
       "    <tr>\n",
       "      <th>2</th>\n",
       "      <td>0.614434</td>\n",
       "      <td>0.706518</td>\n",
       "      <td>0.602576</td>\n",
       "      <td>0.699432</td>\n",
       "      <td>0.602726</td>\n",
       "      <td>0.674276</td>\n",
       "      <td>0.635870</td>\n",
       "      <td>0.715323</td>\n",
       "      <td>0.725985</td>\n",
       "      <td>0.544553</td>\n",
       "      <td>0.715342</td>\n",
       "      <td>0.404416</td>\n",
       "      <td>0.636745</td>\n",
       "      <td>0.686371</td>\n",
       "      <td>0.408819</td>\n",
       "      <td>0.596682</td>\n",
       "    </tr>\n",
       "    <tr>\n",
       "      <th>3</th>\n",
       "      <td>0.597068</td>\n",
       "      <td>0.706518</td>\n",
       "      <td>0.579292</td>\n",
       "      <td>0.662689</td>\n",
       "      <td>0.579074</td>\n",
       "      <td>0.693413</td>\n",
       "      <td>0.661557</td>\n",
       "      <td>0.738674</td>\n",
       "      <td>0.740182</td>\n",
       "      <td>0.561300</td>\n",
       "      <td>0.738687</td>\n",
       "      <td>0.416255</td>\n",
       "      <td>0.695627</td>\n",
       "      <td>0.738089</td>\n",
       "      <td>0.436977</td>\n",
       "      <td>0.671949</td>\n",
       "    </tr>\n",
       "    <tr>\n",
       "      <th>4</th>\n",
       "      <td>0.681890</td>\n",
       "      <td>0.762032</td>\n",
       "      <td>0.656384</td>\n",
       "      <td>0.748704</td>\n",
       "      <td>0.656501</td>\n",
       "      <td>0.755571</td>\n",
       "      <td>0.706210</td>\n",
       "      <td>0.808931</td>\n",
       "      <td>0.810897</td>\n",
       "      <td>0.618416</td>\n",
       "      <td>0.808968</td>\n",
       "      <td>0.375159</td>\n",
       "      <td>0.762472</td>\n",
       "      <td>0.513798</td>\n",
       "      <td>0.404336</td>\n",
       "      <td>0.757611</td>\n",
       "    </tr>\n",
       "  </tbody>\n",
       "</table>\n",
       "</div>"
      ],
      "text/plain": [
       "   MDVP:Jitter(%)  MDVP:Jitter(Abs)  MDVP:RAP  MDVP:PPQ  Jitter:DDP  \\\n",
       "0        0.516486          0.636993  0.490882  0.587129    0.490599   \n",
       "1        0.587171          0.673934  0.557106  0.661751    0.556873   \n",
       "2        0.614434          0.706518  0.602576  0.699432    0.602726   \n",
       "3        0.597068          0.706518  0.579292  0.662689    0.579074   \n",
       "4        0.681890          0.762032  0.656384  0.748704    0.656501   \n",
       "\n",
       "   MDVP:Shimmer  MDVP:Shimmer(dB)  Shimmer:APQ3  Shimmer:APQ5  MDVP:APQ  \\\n",
       "0      0.603244          0.590614      0.622453      0.646595  0.480463   \n",
       "1      0.737209          0.731658      0.766212      0.785939  0.610978   \n",
       "2      0.674276          0.635870      0.715323      0.725985  0.544553   \n",
       "3      0.693413          0.661557      0.738674      0.740182  0.561300   \n",
       "4      0.755571          0.706210      0.808931      0.810897  0.618416   \n",
       "\n",
       "   Shimmer:DDA      RPDE   spread1   spread2        D2       PPE  \n",
       "0     0.622488  0.369155  0.569875  0.585765  0.390661  0.497310  \n",
       "1     0.766304  0.470830  0.703277  0.741337  0.473145  0.671326  \n",
       "2     0.715342  0.404416  0.636745  0.686371  0.408819  0.596682  \n",
       "3     0.738687  0.416255  0.695627  0.738089  0.436977  0.671949  \n",
       "4     0.808968  0.375159  0.762472  0.513798  0.404336  0.757611  "
      ]
     },
     "execution_count": 82,
     "metadata": {},
     "output_type": "execute_result"
    }
   ],
   "source": [
    "x = pd.DataFrame(x_scaled, columns=col)\n",
    "x.head()"
   ]
  },
  {
   "cell_type": "code",
   "execution_count": null,
   "metadata": {},
   "outputs": [],
   "source": []
  },
  {
   "cell_type": "code",
   "execution_count": null,
   "metadata": {},
   "outputs": [],
   "source": []
  },
  {
   "cell_type": "markdown",
   "metadata": {},
   "source": [
    "## Univariate feature selection"
   ]
  },
  {
   "cell_type": "code",
   "execution_count": 83,
   "metadata": {},
   "outputs": [],
   "source": [
    "from sklearn.feature_selection import SelectKBest\n",
    "from sklearn.feature_selection import chi2"
   ]
  },
  {
   "cell_type": "code",
   "execution_count": 84,
   "metadata": {},
   "outputs": [
    {
     "name": "stdout",
     "output_type": "stream",
     "text": [
      "            Features     Score\n",
      "12           spread1  5.832052\n",
      "15               PPE  5.680013\n",
      "9           MDVP:APQ  4.333893\n",
      "5       MDVP:Shimmer  4.178076\n",
      "6   MDVP:Shimmer(dB)  4.029024\n",
      "8       Shimmer:APQ5  3.858415\n",
      "1   MDVP:Jitter(Abs)  3.807486\n",
      "7       Shimmer:APQ3  3.454705\n",
      "10       Shimmer:DDA  3.450908\n",
      "3           MDVP:PPQ  2.959145\n"
     ]
    }
   ],
   "source": [
    "top_features = SelectKBest(score_func=chi2, k=10)\n",
    "fit = top_features.fit(x,y)\n",
    "scores = pd.DataFrame(fit.scores_)\n",
    "columns = pd.DataFrame(x.columns)\n",
    "featureScores = pd.concat([columns,scores],axis=1)\n",
    "featureScores.columns = ['Features','Score'] \n",
    "print(featureScores.nlargest(10,'Score'))"
   ]
  },
  {
   "cell_type": "code",
   "execution_count": 85,
   "metadata": {},
   "outputs": [
    {
     "data": {
      "text/plain": [
       "Index(['MDVP:Jitter(%)', 'MDVP:Jitter(Abs)', 'MDVP:RAP', 'MDVP:PPQ',\n",
       "       'Jitter:DDP', 'MDVP:Shimmer', 'MDVP:Shimmer(dB)', 'Shimmer:APQ3',\n",
       "       'Shimmer:APQ5', 'MDVP:APQ', 'Shimmer:DDA', 'RPDE', 'spread1', 'spread2',\n",
       "       'D2', 'PPE'],\n",
       "      dtype='object')"
      ]
     },
     "execution_count": 85,
     "metadata": {},
     "output_type": "execute_result"
    }
   ],
   "source": [
    "x.columns"
   ]
  },
  {
   "cell_type": "code",
   "execution_count": 86,
   "metadata": {},
   "outputs": [],
   "source": [
    "top_5_features = [\"spread1\",\"MDVP:APQ\",\"PPE\",\"MDVP:Shimmer\",\"MDVP:Shimmer(dB)\"]"
   ]
  },
  {
   "cell_type": "code",
   "execution_count": 90,
   "metadata": {},
   "outputs": [],
   "source": [
    "X = x[[\"spread1\",\"MDVP:APQ\",\"PPE\",\"MDVP:Shimmer\",\"MDVP:Shimmer(dB)\"]]"
   ]
  },
  {
   "cell_type": "code",
   "execution_count": 91,
   "metadata": {},
   "outputs": [
    {
     "data": {
      "text/html": [
       "<div>\n",
       "<style scoped>\n",
       "    .dataframe tbody tr th:only-of-type {\n",
       "        vertical-align: middle;\n",
       "    }\n",
       "\n",
       "    .dataframe tbody tr th {\n",
       "        vertical-align: top;\n",
       "    }\n",
       "\n",
       "    .dataframe thead th {\n",
       "        text-align: right;\n",
       "    }\n",
       "</style>\n",
       "<table border=\"1\" class=\"dataframe\">\n",
       "  <thead>\n",
       "    <tr style=\"text-align: right;\">\n",
       "      <th></th>\n",
       "      <th>spread1</th>\n",
       "      <th>MDVP:APQ</th>\n",
       "      <th>PPE</th>\n",
       "      <th>MDVP:Shimmer</th>\n",
       "      <th>MDVP:Shimmer(dB)</th>\n",
       "    </tr>\n",
       "  </thead>\n",
       "  <tbody>\n",
       "    <tr>\n",
       "      <th>0</th>\n",
       "      <td>0.569875</td>\n",
       "      <td>0.480463</td>\n",
       "      <td>0.497310</td>\n",
       "      <td>0.603244</td>\n",
       "      <td>0.590614</td>\n",
       "    </tr>\n",
       "    <tr>\n",
       "      <th>1</th>\n",
       "      <td>0.703277</td>\n",
       "      <td>0.610978</td>\n",
       "      <td>0.671326</td>\n",
       "      <td>0.737209</td>\n",
       "      <td>0.731658</td>\n",
       "    </tr>\n",
       "    <tr>\n",
       "      <th>2</th>\n",
       "      <td>0.636745</td>\n",
       "      <td>0.544553</td>\n",
       "      <td>0.596682</td>\n",
       "      <td>0.674276</td>\n",
       "      <td>0.635870</td>\n",
       "    </tr>\n",
       "    <tr>\n",
       "      <th>3</th>\n",
       "      <td>0.695627</td>\n",
       "      <td>0.561300</td>\n",
       "      <td>0.671949</td>\n",
       "      <td>0.693413</td>\n",
       "      <td>0.661557</td>\n",
       "    </tr>\n",
       "    <tr>\n",
       "      <th>4</th>\n",
       "      <td>0.762472</td>\n",
       "      <td>0.618416</td>\n",
       "      <td>0.757611</td>\n",
       "      <td>0.755571</td>\n",
       "      <td>0.706210</td>\n",
       "    </tr>\n",
       "  </tbody>\n",
       "</table>\n",
       "</div>"
      ],
      "text/plain": [
       "    spread1  MDVP:APQ       PPE  MDVP:Shimmer  MDVP:Shimmer(dB)\n",
       "0  0.569875  0.480463  0.497310      0.603244          0.590614\n",
       "1  0.703277  0.610978  0.671326      0.737209          0.731658\n",
       "2  0.636745  0.544553  0.596682      0.674276          0.635870\n",
       "3  0.695627  0.561300  0.671949      0.693413          0.661557\n",
       "4  0.762472  0.618416  0.757611      0.755571          0.706210"
      ]
     },
     "execution_count": 91,
     "metadata": {},
     "output_type": "execute_result"
    }
   ],
   "source": [
    "X.head()"
   ]
  },
  {
   "cell_type": "code",
   "execution_count": 92,
   "metadata": {},
   "outputs": [],
   "source": [
    "X.to_csv(\"top_five_features.csv\")"
   ]
  },
  {
   "cell_type": "markdown",
   "metadata": {},
   "source": [
    "Splitting the dataset into the Training set and Test set"
   ]
  },
  {
   "cell_type": "code",
   "execution_count": 93,
   "metadata": {},
   "outputs": [],
   "source": [
    "from sklearn.model_selection import train_test_split\n",
    "x_train, x_test, y_train, y_test = train_test_split(X, y, test_size = 0.2, random_state = 1)"
   ]
  },
  {
   "cell_type": "code",
   "execution_count": 94,
   "metadata": {},
   "outputs": [
    {
     "name": "stdout",
     "output_type": "stream",
     "text": [
      "      spread1  MDVP:APQ       PPE  MDVP:Shimmer  MDVP:Shimmer(dB)\n",
      "53   0.203974  0.337350  0.213227      0.381326          0.361558\n",
      "14   0.336269  0.186197  0.260053      0.257621          0.227168\n",
      "119  0.442566  0.136207  0.364763      0.122286          0.138377\n",
      "19   0.616624  0.606452  0.574888      0.567339          0.516507\n",
      "47   0.116702  0.060641  0.086695      0.074710          0.070384\n",
      "..        ...       ...       ...           ...               ...\n",
      "133  0.274247  0.077163  0.200657      0.035334          0.055870\n",
      "137  0.598466  0.592333  0.476045      0.677743          0.631280\n",
      "72   0.392910  0.212088  0.297499      0.230259          0.212982\n",
      "140  0.572802  0.463279  0.481927      0.488372          0.438146\n",
      "37   0.354111  0.246986  0.266511      0.262575          0.249656\n",
      "\n",
      "[156 rows x 5 columns]\n"
     ]
    }
   ],
   "source": [
    "print(x_train)"
   ]
  },
  {
   "cell_type": "code",
   "execution_count": 95,
   "metadata": {},
   "outputs": [
    {
     "name": "stdout",
     "output_type": "stream",
     "text": [
      "      spread1  MDVP:APQ       PPE  MDVP:Shimmer  MDVP:Shimmer(dB)\n",
      "132  0.457218  0.081634  0.388689      0.091212          0.080904\n",
      "16   0.456512  0.358749  0.359600      0.302447          0.298586\n",
      "18   0.726078  0.705069  0.689459      0.695212          0.678861\n",
      "51   0.230671  0.273830  0.127279      0.299728          0.284977\n",
      "164  0.910441  0.358585  0.668342      0.428514          0.426218\n",
      "145  0.453479  0.330675  0.390040      0.387307          0.356705\n",
      "11   0.543261  0.380869  0.479243      0.419688          0.393844\n",
      "27   0.306149  0.315622  0.245346      0.276867          0.309862\n",
      "176  0.352217  0.208544  0.269019      0.234647          0.220144\n",
      "118  0.551776  0.159340  0.429621      0.116139          0.152862\n",
      "28   0.152606  0.283550  0.132501      0.233036          0.234061\n",
      "170  0.119416  0.188634  0.107038      0.272299          0.276967\n",
      "56   0.637599  0.460631  0.601668      0.538553          0.501461\n",
      "116  0.346007  0.203675  0.260066      0.168030          0.203210\n",
      "103  0.196456  0.114750  0.143743      0.067422          0.084345\n",
      "31   0.051058  0.019670  0.049628      0.024553          0.016851\n",
      "59   0.606735  0.424575  0.563049      0.482519          0.518607\n",
      "40   0.238224  0.182645  0.178148      0.177957          0.169521\n",
      "136  0.648363  0.611133  0.445111      0.646528          0.594890\n",
      "95   0.310599  0.431494  0.249317      0.488251          0.440745\n",
      "35   0.033864  0.096832  0.027072      0.088896          0.084345\n",
      "107  0.246786  0.191856  0.125856      0.165850          0.174910\n",
      "69   0.308056  0.548771  0.201768      0.688770          0.647100\n",
      "84   0.483836  0.536921  0.409214      0.639648          0.598275\n",
      "130  0.330809  0.171760  0.259687      0.155330          0.141320\n",
      "99   0.760201  0.706007  0.691642      0.774179          0.750483\n",
      "123  0.455589  0.334556  0.354203      0.382118          0.366348\n",
      "29   0.240330  0.310577  0.187858      0.249521          0.249656\n",
      "4    0.762472  0.618416  0.757611      0.755571          0.706210\n",
      "167  0.080827  0.217582  0.064304      0.299143          0.308007\n",
      "82   0.532041  0.301419  0.455912      0.369903          0.341746\n",
      "188  0.226862  0.142449  0.159970      0.085899          0.080904\n",
      "67   0.477388  0.435683  0.376341      0.468262          0.471765\n",
      "190  0.257894  0.453671  0.183318      0.576358          0.572090\n",
      "81   0.512200  0.377178  0.447559      0.473952          0.457203\n",
      "112  0.558430  0.304500  0.463115      0.361823          0.331423\n",
      "44   0.164007  0.122711  0.097200      0.157289          0.144240\n",
      "181  0.408778  0.262088  0.317237      0.258271          0.238585\n",
      "187  0.290360  0.157274  0.195368      0.122591          0.117084\n"
     ]
    }
   ],
   "source": [
    "print(x_test)"
   ]
  },
  {
   "cell_type": "code",
   "execution_count": 96,
   "metadata": {},
   "outputs": [
    {
     "name": "stdout",
     "output_type": "stream",
     "text": [
      "53     0\n",
      "14     1\n",
      "119    1\n",
      "19     1\n",
      "47     0\n",
      "      ..\n",
      "133    1\n",
      "137    1\n",
      "72     1\n",
      "140    1\n",
      "37     1\n",
      "Name: status, Length: 156, dtype: int64\n"
     ]
    }
   ],
   "source": [
    "print(y_train)"
   ]
  },
  {
   "cell_type": "code",
   "execution_count": 97,
   "metadata": {},
   "outputs": [
    {
     "name": "stdout",
     "output_type": "stream",
     "text": [
      "132    1\n",
      "16     1\n",
      "18     1\n",
      "51     0\n",
      "164    1\n",
      "145    1\n",
      "11     1\n",
      "27     1\n",
      "176    0\n",
      "118    1\n",
      "28     1\n",
      "170    0\n",
      "56     1\n",
      "116    1\n",
      "103    1\n",
      "31     0\n",
      "59     1\n",
      "40     1\n",
      "136    1\n",
      "95     1\n",
      "35     0\n",
      "107    1\n",
      "69     1\n",
      "84     1\n",
      "130    1\n",
      "99     1\n",
      "123    1\n",
      "29     1\n",
      "4      1\n",
      "167    0\n",
      "82     1\n",
      "188    0\n",
      "67     1\n",
      "190    0\n",
      "81     1\n",
      "112    1\n",
      "44     0\n",
      "181    1\n",
      "187    0\n",
      "Name: status, dtype: int64\n"
     ]
    }
   ],
   "source": [
    "print(y_test)"
   ]
  },
  {
   "cell_type": "markdown",
   "metadata": {},
   "source": [
    "## Training XGBoost on the Training set"
   ]
  },
  {
   "cell_type": "code",
   "execution_count": 127,
   "metadata": {},
   "outputs": [
    {
     "data": {
      "text/plain": [
       "XGBClassifier(base_score=0.5, booster='gbtree', colsample_bylevel=1,\n",
       "              colsample_bynode=1, colsample_bytree=1, gamma=0, gpu_id=-1,\n",
       "              importance_type='gain', interaction_constraints='',\n",
       "              learning_rate=0.300000012, max_delta_step=0, max_depth=6,\n",
       "              min_child_weight=1, missing=nan, monotone_constraints='()',\n",
       "              n_estimators=100, n_jobs=0, num_parallel_tree=1,\n",
       "              objective='binary:logistic', random_state=0, reg_alpha=0,\n",
       "              reg_lambda=1, scale_pos_weight=1, subsample=1,\n",
       "              tree_method='exact', validate_parameters=1, verbosity=None)"
      ]
     },
     "execution_count": 127,
     "metadata": {},
     "output_type": "execute_result"
    }
   ],
   "source": [
    "from xgboost import XGBClassifier\n",
    "classifier = XGBClassifier()\n",
    "classifier.fit(x_train, y_train)"
   ]
  },
  {
   "cell_type": "code",
   "execution_count": 128,
   "metadata": {},
   "outputs": [
    {
     "name": "stdout",
     "output_type": "stream",
     "text": [
      "[[ 6  4]\n",
      " [ 1 28]]\n"
     ]
    }
   ],
   "source": [
    "from sklearn.metrics import confusion_matrix, accuracy_score\n",
    "y_pred = classifier.predict(x_test)\n",
    "cm = confusion_matrix(y_test, y_pred)\n",
    "print(cm)\n",
    "xgb_accuracy = accuracy_score(y_test, y_pred)"
   ]
  },
  {
   "cell_type": "code",
   "execution_count": 129,
   "metadata": {},
   "outputs": [
    {
     "name": "stdout",
     "output_type": "stream",
     "text": [
      "Accuracy on training set: 0.994\n",
      "Accuracy on test set: 0.872\n"
     ]
    }
   ],
   "source": [
    "print(\"Accuracy on training set: {:.3f}\".format(classifier.score(x_train, y_train)))\n",
    "print(\"Accuracy on test set: {:.3f}\".format(classifier.score(x_test, y_test)))"
   ]
  },
  {
   "cell_type": "markdown",
   "metadata": {},
   "source": [
    "## Training RandomForest on the Training set"
   ]
  },
  {
   "cell_type": "code",
   "execution_count": 130,
   "metadata": {},
   "outputs": [],
   "source": [
    "from sklearn.preprocessing import StandardScaler\n",
    "sc = StandardScaler()\n",
    "X_train_std = sc.fit_transform(x_train)\n",
    "X_test_std = sc.transform(x_test)\n"
   ]
  },
  {
   "cell_type": "code",
   "execution_count": 131,
   "metadata": {},
   "outputs": [
    {
     "data": {
      "text/plain": [
       "RandomForestClassifier(bootstrap=True, ccp_alpha=0.0, class_weight=None,\n",
       "                       criterion='entropy', max_depth=None, max_features='auto',\n",
       "                       max_leaf_nodes=None, max_samples=None,\n",
       "                       min_impurity_decrease=0.0, min_impurity_split=None,\n",
       "                       min_samples_leaf=1, min_samples_split=2,\n",
       "                       min_weight_fraction_leaf=0.0, n_estimators=10,\n",
       "                       n_jobs=None, oob_score=False, random_state=0, verbose=0,\n",
       "                       warm_start=False)"
      ]
     },
     "execution_count": 131,
     "metadata": {},
     "output_type": "execute_result"
    }
   ],
   "source": [
    "from sklearn.ensemble import RandomForestClassifier\n",
    "rf_classifier = RandomForestClassifier(n_estimators = 10, criterion = 'entropy', random_state = 0)\n",
    "rf_classifier.fit(X_train_std, y_train)"
   ]
  },
  {
   "cell_type": "code",
   "execution_count": 132,
   "metadata": {},
   "outputs": [
    {
     "name": "stdout",
     "output_type": "stream",
     "text": [
      "[[ 6  4]\n",
      " [ 3 26]]\n"
     ]
    }
   ],
   "source": [
    "from sklearn.metrics import confusion_matrix, accuracy_score\n",
    "y_pred_rf = rf_classifier.predict(X_test_std)\n",
    "cm = confusion_matrix(y_test, y_pred_rf)\n",
    "print(cm)\n",
    "rf_accuracy = accuracy_score(y_test, y_pred_rf)"
   ]
  },
  {
   "cell_type": "code",
   "execution_count": 133,
   "metadata": {},
   "outputs": [
    {
     "name": "stdout",
     "output_type": "stream",
     "text": [
      "Accuracy on training set: 0.974\n",
      "Accuracy on test set: 0.821\n"
     ]
    }
   ],
   "source": [
    "print(\"Accuracy on training set: {:.3f}\".format(rf_classifier.score(X_train_std, y_train)))\n",
    "print(\"Accuracy on test set: {:.3f}\".format(rf_classifier.score(X_test_std, y_test)))"
   ]
  },
  {
   "cell_type": "markdown",
   "metadata": {},
   "source": [
    "## Training the Kernel SVM model on the Training set"
   ]
  },
  {
   "cell_type": "code",
   "execution_count": 134,
   "metadata": {},
   "outputs": [
    {
     "data": {
      "text/plain": [
       "SVC(C=1.0, break_ties=False, cache_size=200, class_weight=None, coef0=0.0,\n",
       "    decision_function_shape='ovr', degree=3, gamma='scale', kernel='rbf',\n",
       "    max_iter=-1, probability=False, random_state=0, shrinking=True, tol=0.001,\n",
       "    verbose=False)"
      ]
     },
     "execution_count": 134,
     "metadata": {},
     "output_type": "execute_result"
    }
   ],
   "source": [
    "from sklearn.svm import SVC\n",
    "ksvm_classifier = SVC(kernel = 'rbf', random_state = 0)\n",
    "ksvm_classifier.fit(X_train_std, y_train)"
   ]
  },
  {
   "cell_type": "code",
   "execution_count": 135,
   "metadata": {},
   "outputs": [
    {
     "name": "stdout",
     "output_type": "stream",
     "text": [
      "[[ 6  4]\n",
      " [ 2 27]]\n"
     ]
    }
   ],
   "source": [
    "from sklearn.metrics import confusion_matrix, accuracy_score\n",
    "y_pred_ksvm = ksvm_classifier.predict(X_test_std)\n",
    "cm = confusion_matrix(y_test, y_pred_ksvm)\n",
    "print(cm)\n",
    "ksvm_accuracy = accuracy_score(y_test, y_pred_ksvm)"
   ]
  },
  {
   "cell_type": "code",
   "execution_count": 136,
   "metadata": {},
   "outputs": [
    {
     "name": "stdout",
     "output_type": "stream",
     "text": [
      "Accuracy on training set: 0.885\n",
      "Accuracy on test set: 0.846\n"
     ]
    }
   ],
   "source": [
    "print(\"Accuracy on training set: {:.3f}\".format(ksvm_classifier.score(X_train_std, y_train)))\n",
    "print(\"Accuracy on test set: {:.3f}\".format(ksvm_classifier.score(X_test_std, y_test)))"
   ]
  },
  {
   "cell_type": "markdown",
   "metadata": {},
   "source": [
    "## Training the Naive Bayes model on the Training set"
   ]
  },
  {
   "cell_type": "code",
   "execution_count": 137,
   "metadata": {},
   "outputs": [
    {
     "data": {
      "text/plain": [
       "GaussianNB(priors=None, var_smoothing=1e-09)"
      ]
     },
     "execution_count": 137,
     "metadata": {},
     "output_type": "execute_result"
    }
   ],
   "source": [
    "from sklearn.naive_bayes import GaussianNB\n",
    "nb_classifier = GaussianNB()\n",
    "nb_classifier.fit(X_train_std, y_train)"
   ]
  },
  {
   "cell_type": "code",
   "execution_count": 138,
   "metadata": {},
   "outputs": [
    {
     "name": "stdout",
     "output_type": "stream",
     "text": [
      "[[ 9  1]\n",
      " [ 9 20]]\n"
     ]
    }
   ],
   "source": [
    "from sklearn.metrics import confusion_matrix, accuracy_score\n",
    "y_pred_nb = nb_classifier.predict(X_test_std)\n",
    "cm = confusion_matrix(y_test, y_pred_nb)\n",
    "print(cm)\n",
    "nb_accuracy = accuracy_score(y_test, y_pred_nb)"
   ]
  },
  {
   "cell_type": "code",
   "execution_count": 139,
   "metadata": {},
   "outputs": [
    {
     "name": "stdout",
     "output_type": "stream",
     "text": [
      "Accuracy on training set: 0.763\n",
      "Accuracy on test set: 0.744\n"
     ]
    }
   ],
   "source": [
    "print(\"Accuracy on training set: {:.3f}\".format(nb_classifier.score(X_train_std, y_train)))\n",
    "print(\"Accuracy on test set: {:.3f}\".format(nb_classifier.score(X_test_std, y_test)))"
   ]
  },
  {
   "cell_type": "markdown",
   "metadata": {},
   "source": [
    "## Comparing the results"
   ]
  },
  {
   "cell_type": "code",
   "execution_count": 140,
   "metadata": {},
   "outputs": [],
   "source": [
    "algorithms=['XGB','RANDOM FOREST','Kernel SVM', 'Naive Bayes']\n",
    "scores=[xgb_accuracy,rf_accuracy,ksvm_accuracy,nb_accuracy]"
   ]
  },
  {
   "cell_type": "code",
   "execution_count": 142,
   "metadata": {},
   "outputs": [
    {
     "data": {
      "text/plain": [
       "<matplotlib.axes._subplots.AxesSubplot at 0x24bf5b6ef48>"
      ]
     },
     "execution_count": 142,
     "metadata": {},
     "output_type": "execute_result"
    },
    {
     "data": {
      "image/png": "[encoded data removed]",
      "text/plain": [
       "<Figure size 1080x504 with 1 Axes>"
      ]
     },
     "metadata": {},
     "output_type": "display_data"
    }
   ],
   "source": [
    "import seaborn as sns\n",
    "sns.set(rc={'figure.figsize':(15,7)})\n",
    "plt.xlabel(\"Algorithms\")\n",
    "plt.ylabel(\"Accuracy score\")\n",
    "\n",
    "sns.barplot(algorithms,scores)"
   ]
  },
  {
   "cell_type": "code",
   "execution_count": null,
   "metadata": {},
   "outputs": [],
   "source": []
  }
 ],
 "metadata": {
  "kernelspec": {
   "display_name": "Python 3",
   "language": "python",
   "name": "python3"
  },
  "language_info": {
   "codemirror_mode": {
    "name": "ipython",
    "version": 3
   },
   "file_extension": ".py",
   "mimetype": "text/x-python",
   "name": "python",
   "nbconvert_exporter": "python",
   "pygments_lexer": "ipython3",
   "version": "3.7.5"
  }
 },
 "nbformat": 4,
 "nbformat_minor": 2
}
