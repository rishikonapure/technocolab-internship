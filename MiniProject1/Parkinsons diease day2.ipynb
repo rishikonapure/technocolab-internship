{
 "cells": [
  {
   "cell_type": "markdown",
   "metadata": {},
   "source": [
    "## Importing required libraries"
   ]
  },
  {
   "cell_type": "code",
   "execution_count": 1,
   "metadata": {},
   "outputs": [],
   "source": [
    "\n",
    "import numpy as np\n",
    "import pandas as pd\n",
    "import matplotlib.pyplot as plt"
   ]
  },
  {
   "cell_type": "markdown",
   "metadata": {},
   "source": [
    "## Import dataset"
   ]
  },
  {
   "cell_type": "code",
   "execution_count": 15,
   "metadata": {},
   "outputs": [],
   "source": [
    "\n",
    "dataset = pd.read_csv(\"transformed_data.csv\")"
   ]
  },
  {
   "cell_type": "code",
   "execution_count": 16,
   "metadata": {},
   "outputs": [
    {
     "data": {
      "text/html": [
       "<div>\n",
       "<style scoped>\n",
       "    .dataframe tbody tr th:only-of-type {\n",
       "        vertical-align: middle;\n",
       "    }\n",
       "\n",
       "    .dataframe tbody tr th {\n",
       "        vertical-align: top;\n",
       "    }\n",
       "\n",
       "    .dataframe thead th {\n",
       "        text-align: right;\n",
       "    }\n",
       "</style>\n",
       "<table border=\"1\" class=\"dataframe\">\n",
       "  <thead>\n",
       "    <tr style=\"text-align: right;\">\n",
       "      <th></th>\n",
       "      <th>Unnamed: 0</th>\n",
       "      <th>name</th>\n",
       "      <th>MDVP:Jitter(%)</th>\n",
       "      <th>MDVP:Jitter(Abs)</th>\n",
       "      <th>MDVP:RAP</th>\n",
       "      <th>MDVP:PPQ</th>\n",
       "      <th>Jitter:DDP</th>\n",
       "      <th>MDVP:Shimmer</th>\n",
       "      <th>MDVP:Shimmer(dB)</th>\n",
       "      <th>Shimmer:APQ3</th>\n",
       "      <th>Shimmer:APQ5</th>\n",
       "      <th>MDVP:APQ</th>\n",
       "      <th>Shimmer:DDA</th>\n",
       "      <th>status</th>\n",
       "      <th>RPDE</th>\n",
       "      <th>spread1</th>\n",
       "      <th>spread2</th>\n",
       "      <th>D2</th>\n",
       "      <th>PPE</th>\n",
       "    </tr>\n",
       "  </thead>\n",
       "  <tbody>\n",
       "    <tr>\n",
       "      <th>0</th>\n",
       "      <td>0</td>\n",
       "      <td>phon_R01_S01_1</td>\n",
       "      <td>-4.848516</td>\n",
       "      <td>-9.567015</td>\n",
       "      <td>-5.599422</td>\n",
       "      <td>-5.195761</td>\n",
       "      <td>-4.501711</td>\n",
       "      <td>-3.129492</td>\n",
       "      <td>-0.853316</td>\n",
       "      <td>-3.824928</td>\n",
       "      <td>-3.464137</td>\n",
       "      <td>-3.516272</td>\n",
       "      <td>-2.726469</td>\n",
       "      <td>1</td>\n",
       "      <td>0.414783</td>\n",
       "      <td>-4.813031</td>\n",
       "      <td>0.266482</td>\n",
       "      <td>2.301442</td>\n",
       "      <td>0.284654</td>\n",
       "    </tr>\n",
       "    <tr>\n",
       "      <th>1</th>\n",
       "      <td>1</td>\n",
       "      <td>phon_R01_S01_2</td>\n",
       "      <td>-4.637693</td>\n",
       "      <td>-9.433484</td>\n",
       "      <td>-5.370888</td>\n",
       "      <td>-4.967576</td>\n",
       "      <td>-4.272993</td>\n",
       "      <td>-2.791323</td>\n",
       "      <td>-0.468405</td>\n",
       "      <td>-3.462860</td>\n",
       "      <td>-3.097101</td>\n",
       "      <td>-3.130865</td>\n",
       "      <td>-2.364141</td>\n",
       "      <td>1</td>\n",
       "      <td>0.458359</td>\n",
       "      <td>-4.075192</td>\n",
       "      <td>0.335590</td>\n",
       "      <td>2.486855</td>\n",
       "      <td>0.368674</td>\n",
       "    </tr>\n",
       "    <tr>\n",
       "      <th>2</th>\n",
       "      <td>2</td>\n",
       "      <td>phon_R01_S01_3</td>\n",
       "      <td>-4.556380</td>\n",
       "      <td>-9.315701</td>\n",
       "      <td>-5.213976</td>\n",
       "      <td>-4.852350</td>\n",
       "      <td>-4.114751</td>\n",
       "      <td>-2.950185</td>\n",
       "      <td>-0.729811</td>\n",
       "      <td>-3.591027</td>\n",
       "      <td>-3.255021</td>\n",
       "      <td>-3.327018</td>\n",
       "      <td>-2.492536</td>\n",
       "      <td>1</td>\n",
       "      <td>0.429895</td>\n",
       "      <td>-4.443179</td>\n",
       "      <td>0.311173</td>\n",
       "      <td>2.342259</td>\n",
       "      <td>0.332634</td>\n",
       "    </tr>\n",
       "    <tr>\n",
       "      <th>3</th>\n",
       "      <td>3</td>\n",
       "      <td>phon_R01_S01_4</td>\n",
       "      <td>-4.608175</td>\n",
       "      <td>-9.315701</td>\n",
       "      <td>-5.294325</td>\n",
       "      <td>-4.964706</td>\n",
       "      <td>-4.196377</td>\n",
       "      <td>-2.901878</td>\n",
       "      <td>-0.659712</td>\n",
       "      <td>-3.532218</td>\n",
       "      <td>-3.217627</td>\n",
       "      <td>-3.277565</td>\n",
       "      <td>-2.433719</td>\n",
       "      <td>1</td>\n",
       "      <td>0.434969</td>\n",
       "      <td>-4.117501</td>\n",
       "      <td>0.334147</td>\n",
       "      <td>2.405554</td>\n",
       "      <td>0.368975</td>\n",
       "    </tr>\n",
       "    <tr>\n",
       "      <th>4</th>\n",
       "      <td>4</td>\n",
       "      <td>phon_R01_S01_5</td>\n",
       "      <td>-4.355190</td>\n",
       "      <td>-9.115030</td>\n",
       "      <td>-5.028290</td>\n",
       "      <td>-4.701681</td>\n",
       "      <td>-3.929169</td>\n",
       "      <td>-2.744974</td>\n",
       "      <td>-0.537854</td>\n",
       "      <td>-3.355268</td>\n",
       "      <td>-3.031359</td>\n",
       "      <td>-3.108901</td>\n",
       "      <td>-2.256656</td>\n",
       "      <td>1</td>\n",
       "      <td>0.417356</td>\n",
       "      <td>-3.747787</td>\n",
       "      <td>0.234513</td>\n",
       "      <td>2.332180</td>\n",
       "      <td>0.410335</td>\n",
       "    </tr>\n",
       "  </tbody>\n",
       "</table>\n",
       "</div>"
      ],
      "text/plain": [
       "   Unnamed: 0            name  MDVP:Jitter(%)  MDVP:Jitter(Abs)  MDVP:RAP  \\\n",
       "0           0  phon_R01_S01_1       -4.848516         -9.567015 -5.599422   \n",
       "1           1  phon_R01_S01_2       -4.637693         -9.433484 -5.370888   \n",
       "2           2  phon_R01_S01_3       -4.556380         -9.315701 -5.213976   \n",
       "3           3  phon_R01_S01_4       -4.608175         -9.315701 -5.294325   \n",
       "4           4  phon_R01_S01_5       -4.355190         -9.115030 -5.028290   \n",
       "\n",
       "   MDVP:PPQ  Jitter:DDP  MDVP:Shimmer  MDVP:Shimmer(dB)  Shimmer:APQ3  \\\n",
       "0 -5.195761   -4.501711     -3.129492         -0.853316     -3.824928   \n",
       "1 -4.967576   -4.272993     -2.791323         -0.468405     -3.462860   \n",
       "2 -4.852350   -4.114751     -2.950185         -0.729811     -3.591027   \n",
       "3 -4.964706   -4.196377     -2.901878         -0.659712     -3.532218   \n",
       "4 -4.701681   -3.929169     -2.744974         -0.537854     -3.355268   \n",
       "\n",
       "   Shimmer:APQ5  MDVP:APQ  Shimmer:DDA  status      RPDE   spread1   spread2  \\\n",
       "0     -3.464137 -3.516272    -2.726469       1  0.414783 -4.813031  0.266482   \n",
       "1     -3.097101 -3.130865    -2.364141       1  0.458359 -4.075192  0.335590   \n",
       "2     -3.255021 -3.327018    -2.492536       1  0.429895 -4.443179  0.311173   \n",
       "3     -3.217627 -3.277565    -2.433719       1  0.434969 -4.117501  0.334147   \n",
       "4     -3.031359 -3.108901    -2.256656       1  0.417356 -3.747787  0.234513   \n",
       "\n",
       "         D2       PPE  \n",
       "0  2.301442  0.284654  \n",
       "1  2.486855  0.368674  \n",
       "2  2.342259  0.332634  \n",
       "3  2.405554  0.368975  \n",
       "4  2.332180  0.410335  "
      ]
     },
     "execution_count": 16,
     "metadata": {},
     "output_type": "execute_result"
    }
   ],
   "source": [
    "dataset.head()"
   ]
  },
  {
   "cell_type": "code",
   "execution_count": 17,
   "metadata": {},
   "outputs": [
    {
     "data": {
      "text/plain": [
       "Index(['Unnamed: 0', 'name', 'MDVP:Jitter(%)', 'MDVP:Jitter(Abs)', 'MDVP:RAP',\n",
       "       'MDVP:PPQ', 'Jitter:DDP', 'MDVP:Shimmer', 'MDVP:Shimmer(dB)',\n",
       "       'Shimmer:APQ3', 'Shimmer:APQ5', 'MDVP:APQ', 'Shimmer:DDA', 'status',\n",
       "       'RPDE', 'spread1', 'spread2', 'D2', 'PPE'],\n",
       "      dtype='object')"
      ]
     },
     "execution_count": 17,
     "metadata": {},
     "output_type": "execute_result"
    }
   ],
   "source": [
    "dataset.columns"
   ]
  },
  {
   "cell_type": "code",
   "execution_count": 18,
   "metadata": {},
   "outputs": [],
   "source": [
    "dataset = dataset.drop(columns=['Unnamed: 0', 'name'], axis = 1)"
   ]
  },
  {
   "cell_type": "code",
   "execution_count": 19,
   "metadata": {},
   "outputs": [],
   "source": [
    "x = dataset.drop([\"status\"], axis = 1)"
   ]
  },
  {
   "cell_type": "code",
   "execution_count": 20,
   "metadata": {},
   "outputs": [],
   "source": [
    "y = dataset[\"status\"]"
   ]
  },
  {
   "cell_type": "code",
   "execution_count": 21,
   "metadata": {},
   "outputs": [
    {
     "data": {
      "text/plain": [
       "(195, 16)"
      ]
     },
     "execution_count": 21,
     "metadata": {},
     "output_type": "execute_result"
    }
   ],
   "source": [
    "x.shape"
   ]
  },
  {
   "cell_type": "code",
   "execution_count": 22,
   "metadata": {},
   "outputs": [
    {
     "data": {
      "text/plain": [
       "(195,)"
      ]
     },
     "execution_count": 22,
     "metadata": {},
     "output_type": "execute_result"
    }
   ],
   "source": [
    "y.shape"
   ]
  },
  {
   "cell_type": "markdown",
   "metadata": {},
   "source": [
    "## Splitting the dataset into the Training set and Test set"
   ]
  },
  {
   "cell_type": "code",
   "execution_count": 25,
   "metadata": {},
   "outputs": [],
   "source": [
    "from sklearn.model_selection import train_test_split\n",
    "x_train, x_test, y_train, y_test = train_test_split(x, y, test_size = 0.2, random_state = 1)"
   ]
  },
  {
   "cell_type": "markdown",
   "metadata": {},
   "source": [
    "## Training XGBoost on the Training set"
   ]
  },
  {
   "cell_type": "code",
   "execution_count": 30,
   "metadata": {},
   "outputs": [
    {
     "data": {
      "text/plain": [
       "XGBClassifier(base_score=0.5, booster='gbtree', colsample_bylevel=1,\n",
       "              colsample_bynode=1, colsample_bytree=1, gamma=0, gpu_id=-1,\n",
       "              importance_type='gain', interaction_constraints='',\n",
       "              learning_rate=0.300000012, max_delta_step=0, max_depth=6,\n",
       "              min_child_weight=1, missing=nan, monotone_constraints='()',\n",
       "              n_estimators=100, n_jobs=0, num_parallel_tree=1,\n",
       "              objective='binary:logistic', random_state=0, reg_alpha=0,\n",
       "              reg_lambda=1, scale_pos_weight=1, subsample=1,\n",
       "              tree_method='exact', validate_parameters=1, verbosity=None)"
      ]
     },
     "execution_count": 30,
     "metadata": {},
     "output_type": "execute_result"
    }
   ],
   "source": [
    "from xgboost import XGBClassifier\n",
    "classifier = XGBClassifier()\n",
    "classifier.fit(x_train, y_train)"
   ]
  },
  {
   "cell_type": "markdown",
   "metadata": {},
   "source": [
    "## Making the Confusion Matrix"
   ]
  },
  {
   "cell_type": "code",
   "execution_count": 31,
   "metadata": {},
   "outputs": [
    {
     "name": "stdout",
     "output_type": "stream",
     "text": [
      "[[ 6  4]\n",
      " [ 2 27]]\n"
     ]
    },
    {
     "data": {
      "text/plain": [
       "0.8461538461538461"
      ]
     },
     "execution_count": 31,
     "metadata": {},
     "output_type": "execute_result"
    }
   ],
   "source": [
    "from sklearn.metrics import confusion_matrix, accuracy_score\n",
    "y_pred = classifier.predict(x_test)\n",
    "cm = confusion_matrix(y_test, y_pred)\n",
    "print(cm)\n",
    "accuracy_score(y_test, y_pred)"
   ]
  },
  {
   "cell_type": "markdown",
   "metadata": {},
   "source": [
    "## Applying k-Fold Cross Validation"
   ]
  },
  {
   "cell_type": "code",
   "execution_count": 32,
   "metadata": {},
   "outputs": [
    {
     "name": "stdout",
     "output_type": "stream",
     "text": [
      "Accuracy: 89.71 %\n",
      "Standard Deviation: 6.54 %\n"
     ]
    }
   ],
   "source": [
    "from sklearn.model_selection import cross_val_score\n",
    "accuracies = cross_val_score(estimator = classifier, X = x_train, y = y_train, cv = 10)\n",
    "print(\"Accuracy: {:.2f} %\".format(accuracies.mean()*100))\n",
    "print(\"Standard Deviation: {:.2f} %\".format(accuracies.std()*100))"
   ]
  },
  {
   "cell_type": "code",
   "execution_count": null,
   "metadata": {},
   "outputs": [],
   "source": []
  }
 ],
 "metadata": {
  "kernelspec": {
   "display_name": "Python 3",
   "language": "python",
   "name": "python3"
  },
  "language_info": {
   "codemirror_mode": {
    "name": "ipython",
    "version": 3
   },
   "file_extension": ".py",
   "mimetype": "text/x-python",
   "name": "python",
   "nbconvert_exporter": "python",
   "pygments_lexer": "ipython3",
   "version": "3.7.5"
  }
 },
 "nbformat": 4,
 "nbformat_minor": 2
}
